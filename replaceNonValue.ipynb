{
 "cells": [
  {
   "cell_type": "code",
   "execution_count": null,
   "metadata": {
    "collapsed": true
   },
   "outputs": [],
   "source": [
    "import re\n",
    "\n",
    "def replaceNonValue(stringy):\n",
    "    if stringy.__class__.__name__ == 'str':\n",
    "        new_stringy = re.sub(\"[^0-9]\", \"\",stringy)\n",
    "        #For Alphabet things\n",
    "        #new_stringy = re.sub(\"[^a-z]\", \"\",stringy.lower())\n",
    "        if not new_stringy:\n",
    "            return 0\n",
    "        return new_stringy\n",
    "    return stringy\n",
    "\n",
    "crunchdf[' funding_total_usd '] = [float(replaceNonValue(x)) for x in crunchdf[' funding_total_usd ']]\n",
    "\n",
    "print crunchdf[' funding_total_usd '][0:20]"
   ]
  }
 ],
 "metadata": {
  "anaconda-cloud": {},
  "kernelspec": {
   "display_name": "Python [default]",
   "language": "python",
   "name": "python2"
  },
  "language_info": {
   "codemirror_mode": {
    "name": "ipython",
    "version": 2
   },
   "file_extension": ".py",
   "mimetype": "text/x-python",
   "name": "python",
   "nbconvert_exporter": "python",
   "pygments_lexer": "ipython2",
   "version": "2.7.12"
  }
 },
 "nbformat": 4,
 "nbformat_minor": 1
}
